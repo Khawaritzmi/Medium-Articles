{
  "nbformat": 4,
  "nbformat_minor": 0,
  "metadata": {
    "colab": {
      "name": "tf_idf.ipynb",
      "provenance": [],
      "collapsed_sections": [],
      "toc_visible": true
    },
    "kernelspec": {
      "name": "python3",
      "display_name": "Python 3"
    },
    "language_info": {
      "name": "python"
    }
  },
  "cells": [
    {
      "cell_type": "markdown",
      "metadata": {
        "id": "_uxPDX994NR0"
      },
      "source": [
        "# How to calculate TF-IDF"
      ]
    },
    {
      "cell_type": "markdown",
      "metadata": {
        "id": "hUO_o7Ie4SUZ"
      },
      "source": [
        "TF-IDF is a method for generating features from textual documents. It's result of multiplying two methods:\n",
        "* Term Frequency: $TF_{i,j} = \\frac{n_{i,j}}{\\sum_k n_{i,j}}$\n",
        "* Inverse Document Frequency: $IDF(w)=log(\\frac{N}{df_t})$"
      ]
    },
    {
      "cell_type": "code",
      "metadata": {
        "id": "wWtNWqR0j5uk"
      },
      "source": [
        "import pandas as pd\n",
        "import numpy as np\n",
        "import collections\n",
        "import math\n",
        "from numpy import linalg as LA\n",
        "import re"
      ],
      "execution_count": 2,
      "outputs": []
    },
    {
      "cell_type": "code",
      "metadata": {
        "id": "QVcEiGcp6ZZL"
      },
      "source": [
        "doc1 = \"The car is driven on the road\"\n",
        "doc2 = \"The truck is driven on the highway\""
      ],
      "execution_count": null,
      "outputs": []
    },
    {
      "cell_type": "code",
      "metadata": {
        "id": "dC3m43iI2TdY"
      },
      "source": [
        "doc1 = 'Game of Thrones is an amazing tv series!'\n",
        "doc2 = 'Game of Thrones is the best tv series!'\n",
        "doc3 = 'Game of Thrones is so great'"
      ],
      "execution_count": 3,
      "outputs": []
    },
    {
      "cell_type": "code",
      "metadata": {
        "id": "Dab7Op9S85vm"
      },
      "source": [
        "l_doc1 = re.sub(r\"[^a-zA-Z0-9]\", \" \", doc1.lower()).split()\n",
        "l_doc2 = re.sub(r\"[^a-zA-Z0-9]\", \" \", doc2.lower()).split()\n",
        "l_doc3 = re.sub(r\"[^a-zA-Z0-9]\", \" \", doc3.lower()).split()"
      ],
      "execution_count": 4,
      "outputs": []
    },
    {
      "cell_type": "code",
      "metadata": {
        "colab": {
          "base_uri": "https://localhost:8080/"
        },
        "id": "SWobXbZtjaBV",
        "outputId": "9113618e-f6d3-4220-f99e-cea109da417d"
      },
      "source": [
        "print(len(l_doc1))\n",
        "print(len(l_doc2))\n",
        "print(len(l_doc3))"
      ],
      "execution_count": 5,
      "outputs": [
        {
          "output_type": "stream",
          "text": [
            "8\n",
            "8\n",
            "6\n"
          ],
          "name": "stdout"
        }
      ]
    },
    {
      "cell_type": "code",
      "metadata": {
        "colab": {
          "base_uri": "https://localhost:8080/"
        },
        "id": "V0pF08EokP_o",
        "outputId": "1ebe0da7-7bb1-486c-f4ef-a6fd43909309"
      },
      "source": [
        "wordset12 = np.union1d(l_doc1,l_doc2)\n",
        "wordset =  np.union1d(wordset12,l_doc3)\n",
        "print(wordset)"
      ],
      "execution_count": 6,
      "outputs": [
        {
          "output_type": "stream",
          "text": [
            "['amazing' 'an' 'best' 'game' 'great' 'is' 'of' 'series' 'so' 'the'\n",
            " 'thrones' 'tv']\n"
          ],
          "name": "stdout"
        }
      ]
    },
    {
      "cell_type": "code",
      "metadata": {
        "colab": {
          "base_uri": "https://localhost:8080/"
        },
        "id": "XpkGvr6nBxwf",
        "outputId": "0714f19b-bf4d-4599-96d0-7e29141fc5d2"
      },
      "source": [
        "len(wordset)"
      ],
      "execution_count": 7,
      "outputs": [
        {
          "output_type": "execute_result",
          "data": {
            "text/plain": [
              "12"
            ]
          },
          "metadata": {
            "tags": []
          },
          "execution_count": 7
        }
      ]
    },
    {
      "cell_type": "markdown",
      "metadata": {
        "id": "uZVW-5D8oAGU"
      },
      "source": [
        "## 1. TF"
      ]
    },
    {
      "cell_type": "code",
      "metadata": {
        "id": "S9O0nDbn2WaJ"
      },
      "source": [
        "def calculateTF(wordset,bow):\n",
        "    termfreq_diz = dict.fromkeys(wordset,0)\n",
        "    counter1 =  dict(collections.Counter(bow))\n",
        "    for w in bow:\n",
        "       termfreq_diz[w]=counter1[w]/len(bow)\n",
        "    return termfreq_diz   "
      ],
      "execution_count": 8,
      "outputs": []
    },
    {
      "cell_type": "code",
      "metadata": {
        "colab": {
          "base_uri": "https://localhost:8080/"
        },
        "id": "_M1JGpH3uLtF",
        "outputId": "5af2492e-bd37-4324-b26a-a4b4e5112039"
      },
      "source": [
        "termfreq1_diz = calculateTF(wordset,l_doc1)\n",
        "print(termfreq1_diz)\n",
        "termfreq2_diz = calculateTF(wordset,l_doc2)\n",
        "print(termfreq2_diz)\n",
        "termfreq3_diz = calculateTF(wordset,l_doc3)\n",
        "print(termfreq3_diz)"
      ],
      "execution_count": 9,
      "outputs": [
        {
          "output_type": "stream",
          "text": [
            "{'amazing': 0.125, 'an': 0.125, 'best': 0, 'game': 0.125, 'great': 0, 'is': 0.125, 'of': 0.125, 'series': 0.125, 'so': 0, 'the': 0, 'thrones': 0.125, 'tv': 0.125}\n",
            "{'amazing': 0, 'an': 0, 'best': 0.125, 'game': 0.125, 'great': 0, 'is': 0.125, 'of': 0.125, 'series': 0.125, 'so': 0, 'the': 0.125, 'thrones': 0.125, 'tv': 0.125}\n",
            "{'amazing': 0, 'an': 0, 'best': 0, 'game': 0.16666666666666666, 'great': 0.16666666666666666, 'is': 0.16666666666666666, 'of': 0.16666666666666666, 'series': 0, 'so': 0.16666666666666666, 'the': 0, 'thrones': 0.16666666666666666, 'tv': 0}\n"
          ],
          "name": "stdout"
        }
      ]
    },
    {
      "cell_type": "code",
      "metadata": {
        "colab": {
          "base_uri": "https://localhost:8080/",
          "height": 141
        },
        "id": "1VAFvD7_zPn-",
        "outputId": "7d744e73-3879-4dde-87ac-ac3b508b4290"
      },
      "source": [
        "df = pd.DataFrame([termfreq1_diz,termfreq2_diz,termfreq3_diz])\n",
        "df.head()"
      ],
      "execution_count": 10,
      "outputs": [
        {
          "output_type": "execute_result",
          "data": {
            "text/html": [
              "<div>\n",
              "<style scoped>\n",
              "    .dataframe tbody tr th:only-of-type {\n",
              "        vertical-align: middle;\n",
              "    }\n",
              "\n",
              "    .dataframe tbody tr th {\n",
              "        vertical-align: top;\n",
              "    }\n",
              "\n",
              "    .dataframe thead th {\n",
              "        text-align: right;\n",
              "    }\n",
              "</style>\n",
              "<table border=\"1\" class=\"dataframe\">\n",
              "  <thead>\n",
              "    <tr style=\"text-align: right;\">\n",
              "      <th></th>\n",
              "      <th>amazing</th>\n",
              "      <th>an</th>\n",
              "      <th>best</th>\n",
              "      <th>game</th>\n",
              "      <th>great</th>\n",
              "      <th>is</th>\n",
              "      <th>of</th>\n",
              "      <th>series</th>\n",
              "      <th>so</th>\n",
              "      <th>the</th>\n",
              "      <th>thrones</th>\n",
              "      <th>tv</th>\n",
              "    </tr>\n",
              "  </thead>\n",
              "  <tbody>\n",
              "    <tr>\n",
              "      <th>0</th>\n",
              "      <td>0.125</td>\n",
              "      <td>0.125</td>\n",
              "      <td>0.000</td>\n",
              "      <td>0.125000</td>\n",
              "      <td>0.000000</td>\n",
              "      <td>0.125000</td>\n",
              "      <td>0.125000</td>\n",
              "      <td>0.125</td>\n",
              "      <td>0.000000</td>\n",
              "      <td>0.000</td>\n",
              "      <td>0.125000</td>\n",
              "      <td>0.125</td>\n",
              "    </tr>\n",
              "    <tr>\n",
              "      <th>1</th>\n",
              "      <td>0.000</td>\n",
              "      <td>0.000</td>\n",
              "      <td>0.125</td>\n",
              "      <td>0.125000</td>\n",
              "      <td>0.000000</td>\n",
              "      <td>0.125000</td>\n",
              "      <td>0.125000</td>\n",
              "      <td>0.125</td>\n",
              "      <td>0.000000</td>\n",
              "      <td>0.125</td>\n",
              "      <td>0.125000</td>\n",
              "      <td>0.125</td>\n",
              "    </tr>\n",
              "    <tr>\n",
              "      <th>2</th>\n",
              "      <td>0.000</td>\n",
              "      <td>0.000</td>\n",
              "      <td>0.000</td>\n",
              "      <td>0.166667</td>\n",
              "      <td>0.166667</td>\n",
              "      <td>0.166667</td>\n",
              "      <td>0.166667</td>\n",
              "      <td>0.000</td>\n",
              "      <td>0.166667</td>\n",
              "      <td>0.000</td>\n",
              "      <td>0.166667</td>\n",
              "      <td>0.000</td>\n",
              "    </tr>\n",
              "  </tbody>\n",
              "</table>\n",
              "</div>"
            ],
            "text/plain": [
              "   amazing     an   best      game  ...        so    the   thrones     tv\n",
              "0    0.125  0.125  0.000  0.125000  ...  0.000000  0.000  0.125000  0.125\n",
              "1    0.000  0.000  0.125  0.125000  ...  0.000000  0.125  0.125000  0.125\n",
              "2    0.000  0.000  0.000  0.166667  ...  0.166667  0.000  0.166667  0.000\n",
              "\n",
              "[3 rows x 12 columns]"
            ]
          },
          "metadata": {
            "tags": []
          },
          "execution_count": 10
        }
      ]
    },
    {
      "cell_type": "markdown",
      "metadata": {
        "id": "2vvRQ4EIoD91"
      },
      "source": [
        "## 2. IDF"
      ]
    },
    {
      "cell_type": "markdown",
      "metadata": {
        "id": "29wWW3_t0t8Z"
      },
      "source": [
        "### classical approach"
      ]
    },
    {
      "cell_type": "code",
      "metadata": {
        "id": "1H792ZRMumim"
      },
      "source": [
        "def calculate_IDF(wordset,bow):\n",
        "    d_bow = {'bow_{}'.format(i):list(set(b)) for i,b in enumerate(bow)}\n",
        "    N=len(d_bow.keys())\n",
        "    l_bow = []\n",
        "    for b in d_bow.values():\n",
        "      l_bow+=b\n",
        "    counter = dict(collections.Counter(l_bow))\n",
        "    idf_diz=dict.fromkeys(wordset,0)\n",
        "    for w in wordset:\n",
        "      idf_diz[w]=round(math.log10(N/counter[w]),3)\n",
        "    return idf_diz"
      ],
      "execution_count": 11,
      "outputs": []
    },
    {
      "cell_type": "code",
      "metadata": {
        "colab": {
          "base_uri": "https://localhost:8080/"
        },
        "id": "2cIHXWrS4mdk",
        "outputId": "7209d997-14d0-4a75-a1c0-44b3287a3232"
      },
      "source": [
        "idf_diz = calculate_IDF(wordset,[l_doc1,l_doc2,l_doc3])\n",
        "print(idf_diz)"
      ],
      "execution_count": 12,
      "outputs": [
        {
          "output_type": "stream",
          "text": [
            "{'amazing': 0.477, 'an': 0.477, 'best': 0.477, 'game': 0.0, 'great': 0.477, 'is': 0.0, 'of': 0.0, 'series': 0.176, 'so': 0.477, 'the': 0.477, 'thrones': 0.0, 'tv': 0.176}\n"
          ],
          "name": "stdout"
        }
      ]
    },
    {
      "cell_type": "markdown",
      "metadata": {
        "id": "CFbvbNm302Wv"
      },
      "source": [
        "### sklearn approach"
      ]
    },
    {
      "cell_type": "code",
      "metadata": {
        "id": "pQPabs4UAi-L"
      },
      "source": [
        "def calculate_IDF(wordset,bow):\n",
        "    d_bow = {'bow_{}'.format(i):list(set(b)) for i,b in enumerate(bow)}\n",
        "    N=len(d_bow.keys())\n",
        "    l_bow = []\n",
        "    for b in d_bow.values():\n",
        "      l_bow+=b\n",
        "    counter = dict(collections.Counter(l_bow))\n",
        "    idf_diz=dict.fromkeys(wordset,0)\n",
        "    for w in wordset:\n",
        "      idf_diz[w] = np.log((1+N)/(1+counter[w]))+1\n",
        "    return idf_diz"
      ],
      "execution_count": 13,
      "outputs": []
    },
    {
      "cell_type": "code",
      "metadata": {
        "colab": {
          "base_uri": "https://localhost:8080/"
        },
        "id": "zrK43oL2Bh3R",
        "outputId": "f6ba3927-8fdc-4d6a-f0da-db419546e13b"
      },
      "source": [
        "idf_diz = calculate_IDF(wordset,[l_doc1,l_doc2,l_doc3])\n",
        "print(idf_diz)"
      ],
      "execution_count": 82,
      "outputs": [
        {
          "output_type": "stream",
          "text": [
            "{'amazing': 1.6931471805599454, 'an': 1.6931471805599454, 'best': 1.6931471805599454, 'game': 1.0, 'great': 1.6931471805599454, 'is': 1.0, 'of': 1.0, 'series': 1.2876820724517808, 'so': 1.6931471805599454, 'the': 1.6931471805599454, 'thrones': 1.0, 'tv': 1.2876820724517808}\n"
          ],
          "name": "stdout"
        }
      ]
    },
    {
      "cell_type": "code",
      "metadata": {
        "colab": {
          "base_uri": "https://localhost:8080/",
          "height": 79
        },
        "id": "25hsybWHE9zO",
        "outputId": "ade18ca1-0ae7-4073-ff93-c025f3476bc8"
      },
      "source": [
        "df_idf = pd.DataFrame([idf_diz])\n",
        "df_idf"
      ],
      "execution_count": 14,
      "outputs": [
        {
          "output_type": "execute_result",
          "data": {
            "text/html": [
              "<div>\n",
              "<style scoped>\n",
              "    .dataframe tbody tr th:only-of-type {\n",
              "        vertical-align: middle;\n",
              "    }\n",
              "\n",
              "    .dataframe tbody tr th {\n",
              "        vertical-align: top;\n",
              "    }\n",
              "\n",
              "    .dataframe thead th {\n",
              "        text-align: right;\n",
              "    }\n",
              "</style>\n",
              "<table border=\"1\" class=\"dataframe\">\n",
              "  <thead>\n",
              "    <tr style=\"text-align: right;\">\n",
              "      <th></th>\n",
              "      <th>amazing</th>\n",
              "      <th>an</th>\n",
              "      <th>best</th>\n",
              "      <th>game</th>\n",
              "      <th>great</th>\n",
              "      <th>is</th>\n",
              "      <th>of</th>\n",
              "      <th>series</th>\n",
              "      <th>so</th>\n",
              "      <th>the</th>\n",
              "      <th>thrones</th>\n",
              "      <th>tv</th>\n",
              "    </tr>\n",
              "  </thead>\n",
              "  <tbody>\n",
              "    <tr>\n",
              "      <th>0</th>\n",
              "      <td>0.477</td>\n",
              "      <td>0.477</td>\n",
              "      <td>0.477</td>\n",
              "      <td>0.0</td>\n",
              "      <td>0.477</td>\n",
              "      <td>0.0</td>\n",
              "      <td>0.0</td>\n",
              "      <td>0.176</td>\n",
              "      <td>0.477</td>\n",
              "      <td>0.477</td>\n",
              "      <td>0.0</td>\n",
              "      <td>0.176</td>\n",
              "    </tr>\n",
              "  </tbody>\n",
              "</table>\n",
              "</div>"
            ],
            "text/plain": [
              "   amazing     an   best  game  great  ...  series     so    the  thrones     tv\n",
              "0    0.477  0.477  0.477   0.0  0.477  ...   0.176  0.477  0.477      0.0  0.176\n",
              "\n",
              "[1 rows x 12 columns]"
            ]
          },
          "metadata": {
            "tags": []
          },
          "execution_count": 14
        }
      ]
    },
    {
      "cell_type": "markdown",
      "metadata": {
        "id": "zQ9S8IxjrSn9"
      },
      "source": [
        "## 3. TF-IDF"
      ]
    },
    {
      "cell_type": "markdown",
      "metadata": {
        "id": "TsKGJGffijuf"
      },
      "source": [
        "Combining these two we come up with the TF-IDF score (w) for a word in a document in the corpus. It is the product of tf and idf:\n",
        "$w_{i,j}=TF_{i,j}\\times IDF(w)$"
      ]
    },
    {
      "cell_type": "code",
      "metadata": {
        "id": "R_IiJXBarrFK"
      },
      "source": [
        "def calculate_TF_IDF(wordset,tf_diz,idf_diz):\n",
        "    tf_idf_diz = dict.fromkeys(wordset,0)\n",
        "    for w in wordset:\n",
        "       tf_idf_diz[w]=tf_diz[w]*idf_diz[w]\n",
        "    tdidf_values = list(tf_idf_diz.values())\n",
        "    l2_norm = LA.norm(tdidf_values)   \n",
        "    tf_idf_norm = {w:tf_idf_diz[w]/l2_norm for w in wordset}\n",
        "    return tf_idf_norm"
      ],
      "execution_count": 15,
      "outputs": []
    },
    {
      "cell_type": "code",
      "metadata": {
        "colab": {
          "base_uri": "https://localhost:8080/"
        },
        "id": "9-TxsRYXstjb",
        "outputId": "bcf73516-02cc-4cde-b8f9-0953f911eb96"
      },
      "source": [
        "tf_idf_1 = calculate_TF_IDF(wordset,termfreq1_diz,idf_diz)\n",
        "print(tf_idf_1)\n",
        "tf_idf_2 = calculate_TF_IDF(wordset,termfreq2_diz,idf_diz)\n",
        "print(tf_idf_2)\n",
        "tf_idf_3 = calculate_TF_IDF(wordset,termfreq3_diz,idf_diz)\n",
        "print(tf_idf_3)"
      ],
      "execution_count": 16,
      "outputs": [
        {
          "output_type": "stream",
          "text": [
            "{'amazing': 0.6633899797675505, 'an': 0.6633899797675505, 'best': 0.0, 'game': 0.0, 'great': 0.0, 'is': 0.0, 'of': 0.0, 'series': 0.24477282272345682, 'so': 0.0, 'the': 0.0, 'thrones': 0.0, 'tv': 0.24477282272345682}\n",
            "{'amazing': 0.0, 'an': 0.0, 'best': 0.6633899797675505, 'game': 0.0, 'great': 0.0, 'is': 0.0, 'of': 0.0, 'series': 0.24477282272345682, 'so': 0.0, 'the': 0.6633899797675505, 'thrones': 0.0, 'tv': 0.24477282272345682}\n",
            "{'amazing': 0.0, 'an': 0.0, 'best': 0.0, 'game': 0.0, 'great': 0.7071067811865476, 'is': 0.0, 'of': 0.0, 'series': 0.0, 'so': 0.7071067811865476, 'the': 0.0, 'thrones': 0.0, 'tv': 0.0}\n"
          ],
          "name": "stdout"
        }
      ]
    },
    {
      "cell_type": "code",
      "metadata": {
        "colab": {
          "base_uri": "https://localhost:8080/",
          "height": 141
        },
        "id": "0SZDuC48L0a4",
        "outputId": "9a56f5f5-784f-486d-d5da-de5dcc0ee3d9"
      },
      "source": [
        "df_tfidf = pd.DataFrame([tf_idf_1,tf_idf_2,tf_idf_3])\n",
        "df_tfidf.head()"
      ],
      "execution_count": 17,
      "outputs": [
        {
          "output_type": "execute_result",
          "data": {
            "text/html": [
              "<div>\n",
              "<style scoped>\n",
              "    .dataframe tbody tr th:only-of-type {\n",
              "        vertical-align: middle;\n",
              "    }\n",
              "\n",
              "    .dataframe tbody tr th {\n",
              "        vertical-align: top;\n",
              "    }\n",
              "\n",
              "    .dataframe thead th {\n",
              "        text-align: right;\n",
              "    }\n",
              "</style>\n",
              "<table border=\"1\" class=\"dataframe\">\n",
              "  <thead>\n",
              "    <tr style=\"text-align: right;\">\n",
              "      <th></th>\n",
              "      <th>amazing</th>\n",
              "      <th>an</th>\n",
              "      <th>best</th>\n",
              "      <th>game</th>\n",
              "      <th>great</th>\n",
              "      <th>is</th>\n",
              "      <th>of</th>\n",
              "      <th>series</th>\n",
              "      <th>so</th>\n",
              "      <th>the</th>\n",
              "      <th>thrones</th>\n",
              "      <th>tv</th>\n",
              "    </tr>\n",
              "  </thead>\n",
              "  <tbody>\n",
              "    <tr>\n",
              "      <th>0</th>\n",
              "      <td>0.66339</td>\n",
              "      <td>0.66339</td>\n",
              "      <td>0.00000</td>\n",
              "      <td>0.0</td>\n",
              "      <td>0.000000</td>\n",
              "      <td>0.0</td>\n",
              "      <td>0.0</td>\n",
              "      <td>0.244773</td>\n",
              "      <td>0.000000</td>\n",
              "      <td>0.00000</td>\n",
              "      <td>0.0</td>\n",
              "      <td>0.244773</td>\n",
              "    </tr>\n",
              "    <tr>\n",
              "      <th>1</th>\n",
              "      <td>0.00000</td>\n",
              "      <td>0.00000</td>\n",
              "      <td>0.66339</td>\n",
              "      <td>0.0</td>\n",
              "      <td>0.000000</td>\n",
              "      <td>0.0</td>\n",
              "      <td>0.0</td>\n",
              "      <td>0.244773</td>\n",
              "      <td>0.000000</td>\n",
              "      <td>0.66339</td>\n",
              "      <td>0.0</td>\n",
              "      <td>0.244773</td>\n",
              "    </tr>\n",
              "    <tr>\n",
              "      <th>2</th>\n",
              "      <td>0.00000</td>\n",
              "      <td>0.00000</td>\n",
              "      <td>0.00000</td>\n",
              "      <td>0.0</td>\n",
              "      <td>0.707107</td>\n",
              "      <td>0.0</td>\n",
              "      <td>0.0</td>\n",
              "      <td>0.000000</td>\n",
              "      <td>0.707107</td>\n",
              "      <td>0.00000</td>\n",
              "      <td>0.0</td>\n",
              "      <td>0.000000</td>\n",
              "    </tr>\n",
              "  </tbody>\n",
              "</table>\n",
              "</div>"
            ],
            "text/plain": [
              "   amazing       an     best  game  ...        so      the  thrones        tv\n",
              "0  0.66339  0.66339  0.00000   0.0  ...  0.000000  0.00000      0.0  0.244773\n",
              "1  0.00000  0.00000  0.66339   0.0  ...  0.000000  0.66339      0.0  0.244773\n",
              "2  0.00000  0.00000  0.00000   0.0  ...  0.707107  0.00000      0.0  0.000000\n",
              "\n",
              "[3 rows x 12 columns]"
            ]
          },
          "metadata": {
            "tags": []
          },
          "execution_count": 17
        }
      ]
    },
    {
      "cell_type": "code",
      "metadata": {
        "colab": {
          "base_uri": "https://localhost:8080/"
        },
        "id": "JjntEcc2nFIA",
        "outputId": "f7ea05a7-f441-48e0-b409-0b06596fdcb4"
      },
      "source": [
        "termfreq1_diz"
      ],
      "execution_count": 18,
      "outputs": [
        {
          "output_type": "execute_result",
          "data": {
            "text/plain": [
              "{'amazing': 0.125,\n",
              " 'an': 0.125,\n",
              " 'best': 0,\n",
              " 'game': 0.125,\n",
              " 'great': 0,\n",
              " 'is': 0.125,\n",
              " 'of': 0.125,\n",
              " 'series': 0.125,\n",
              " 'so': 0,\n",
              " 'the': 0,\n",
              " 'thrones': 0.125,\n",
              " 'tv': 0.125}"
            ]
          },
          "metadata": {
            "tags": []
          },
          "execution_count": 18
        }
      ]
    },
    {
      "cell_type": "code",
      "metadata": {
        "colab": {
          "base_uri": "https://localhost:8080/"
        },
        "id": "3hPMqGBPnG_7",
        "outputId": "c88ea4ca-ce3b-4ada-cd61-d285f24ccabd"
      },
      "source": [
        "idf_diz"
      ],
      "execution_count": 19,
      "outputs": [
        {
          "output_type": "execute_result",
          "data": {
            "text/plain": [
              "{'amazing': 0.477,\n",
              " 'an': 0.477,\n",
              " 'best': 0.477,\n",
              " 'game': 0.0,\n",
              " 'great': 0.477,\n",
              " 'is': 0.0,\n",
              " 'of': 0.0,\n",
              " 'series': 0.176,\n",
              " 'so': 0.477,\n",
              " 'the': 0.477,\n",
              " 'thrones': 0.0,\n",
              " 'tv': 0.176}"
            ]
          },
          "metadata": {
            "tags": []
          },
          "execution_count": 19
        }
      ]
    },
    {
      "cell_type": "code",
      "metadata": {
        "colab": {
          "base_uri": "https://localhost:8080/"
        },
        "id": "zCYM39gbncz4",
        "outputId": "2f5b875d-f9d3-4a99-9858-33c3ecfa8c31"
      },
      "source": [
        "tf_idf_diz = dict.fromkeys(wordset,0)\n",
        "for w in wordset:\n",
        "       tf_idf_diz[w]=termfreq1_diz[w]*idf_diz[w]\n",
        "tdidf_values = list(tf_idf_diz.values())\n",
        "print(tdidf_values)\n",
        "l2_norm = LA.norm(tdidf_values)   \n",
        "print(l2_norm)\n",
        "tf_idf_norm = {w:tf_idf_diz[w]/l2_norm for w in wordset}\n",
        "print(tf_idf_norm)"
      ],
      "execution_count": 21,
      "outputs": [
        {
          "output_type": "stream",
          "text": [
            "[0.059625, 0.059625, 0.0, 0.0, 0.0, 0.0, 0.0, 0.022, 0.0, 0.0, 0.0, 0.022]\n",
            "0.0898792592871125\n",
            "{'amazing': 0.6633899797675505, 'an': 0.6633899797675505, 'best': 0.0, 'game': 0.0, 'great': 0.0, 'is': 0.0, 'of': 0.0, 'series': 0.24477282272345682, 'so': 0.0, 'the': 0.0, 'thrones': 0.0, 'tv': 0.24477282272345682}\n"
          ],
          "name": "stdout"
        }
      ]
    },
    {
      "cell_type": "code",
      "metadata": {
        "colab": {
          "base_uri": "https://localhost:8080/"
        },
        "id": "4vOv4HLJoGpP",
        "outputId": "e27235b0-e965-4e8f-e7b9-c7f4dba58025"
      },
      "source": [
        "LA.norm([0.06, 0.06,0.022,0.022]) "
      ],
      "execution_count": 22,
      "outputs": [
        {
          "output_type": "execute_result",
          "data": {
            "text/plain": [
              "0.09037698822156003"
            ]
          },
          "metadata": {
            "tags": []
          },
          "execution_count": 22
        }
      ]
    },
    {
      "cell_type": "code",
      "metadata": {
        "colab": {
          "base_uri": "https://localhost:8080/",
          "height": 161
        },
        "id": "MOfNuml1mHfH",
        "outputId": "b6321bb6-92ed-42c4-a9eb-dc99ce6d53e1"
      },
      "source": [
        "LA.norm(tdidf_values)"
      ],
      "execution_count": 20,
      "outputs": [
        {
          "output_type": "error",
          "ename": "NameError",
          "evalue": "ignored",
          "traceback": [
            "\u001b[0;31m---------------------------------------------------------------------------\u001b[0m",
            "\u001b[0;31mNameError\u001b[0m                                 Traceback (most recent call last)",
            "\u001b[0;32m<ipython-input-20-b8cdcf1f844b>\u001b[0m in \u001b[0;36m<module>\u001b[0;34m()\u001b[0m\n\u001b[0;32m----> 1\u001b[0;31m \u001b[0mLA\u001b[0m\u001b[0;34m.\u001b[0m\u001b[0mnorm\u001b[0m\u001b[0;34m(\u001b[0m\u001b[0mtdidf_values\u001b[0m\u001b[0;34m)\u001b[0m\u001b[0;34m\u001b[0m\u001b[0;34m\u001b[0m\u001b[0m\n\u001b[0m",
            "\u001b[0;31mNameError\u001b[0m: name 'tdidf_values' is not defined"
          ]
        }
      ]
    },
    {
      "cell_type": "markdown",
      "metadata": {
        "id": "IjhALsab4Dbe"
      },
      "source": [
        "## Compare with sklearn"
      ]
    },
    {
      "cell_type": "code",
      "metadata": {
        "id": "FZJiWae84Io5"
      },
      "source": [
        "from sklearn.feature_extraction.text import TfidfVectorizer"
      ],
      "execution_count": 86,
      "outputs": []
    },
    {
      "cell_type": "code",
      "metadata": {
        "id": "tw14EHp44KZK"
      },
      "source": [
        "corpus = [doc1,doc2,doc3]\n",
        "vectorizer = TfidfVectorizer()\n",
        "response = vectorizer.fit_transform(corpus)"
      ],
      "execution_count": 87,
      "outputs": []
    },
    {
      "cell_type": "code",
      "metadata": {
        "colab": {
          "base_uri": "https://localhost:8080/"
        },
        "id": "Bgujov-m6ImX",
        "outputId": "642115fc-48bc-4dfd-b81a-2fc6e18345fa"
      },
      "source": [
        "print(response)"
      ],
      "execution_count": 88,
      "outputs": [
        {
          "output_type": "stream",
          "text": [
            "  (0, 7)\t0.35645740147620697\n",
            "  (0, 11)\t0.35645740147620697\n",
            "  (0, 0)\t0.4686986463592042\n",
            "  (0, 1)\t0.4686986463592042\n",
            "  (0, 5)\t0.27682097087637686\n",
            "  (0, 10)\t0.27682097087637686\n",
            "  (0, 6)\t0.27682097087637686\n",
            "  (0, 3)\t0.27682097087637686\n",
            "  (1, 2)\t0.4686986463592043\n",
            "  (1, 9)\t0.4686986463592043\n",
            "  (1, 7)\t0.356457401476207\n",
            "  (1, 11)\t0.356457401476207\n",
            "  (1, 5)\t0.27682097087637686\n",
            "  (1, 10)\t0.27682097087637686\n",
            "  (1, 6)\t0.27682097087637686\n",
            "  (1, 3)\t0.27682097087637686\n",
            "  (2, 4)\t0.5427006131762078\n",
            "  (2, 8)\t0.5427006131762078\n",
            "  (2, 5)\t0.32052772458725637\n",
            "  (2, 10)\t0.32052772458725637\n",
            "  (2, 6)\t0.32052772458725637\n",
            "  (2, 3)\t0.32052772458725637\n"
          ],
          "name": "stdout"
        }
      ]
    },
    {
      "cell_type": "code",
      "metadata": {
        "colab": {
          "base_uri": "https://localhost:8080/"
        },
        "id": "80-0bfQ464aS",
        "outputId": "951994be-3623-42ef-a885-a4b035014588"
      },
      "source": [
        "vectorizer.get_feature_names()"
      ],
      "execution_count": 89,
      "outputs": [
        {
          "output_type": "execute_result",
          "data": {
            "text/plain": [
              "['amazing',\n",
              " 'an',\n",
              " 'best',\n",
              " 'game',\n",
              " 'great',\n",
              " 'is',\n",
              " 'of',\n",
              " 'series',\n",
              " 'so',\n",
              " 'the',\n",
              " 'thrones',\n",
              " 'tv']"
            ]
          },
          "metadata": {
            "tags": []
          },
          "execution_count": 89
        }
      ]
    },
    {
      "cell_type": "code",
      "metadata": {
        "colab": {
          "base_uri": "https://localhost:8080/"
        },
        "id": "unp5O5Js5a94",
        "outputId": "fb408c41-c06e-4125-f2a9-a5a6abd1b73b"
      },
      "source": [
        "feature_names = vectorizer.get_feature_names()\n",
        "for col in response.nonzero()[1]:\n",
        "     print('{}: {}'.format(feature_names[col],response[0,col]))"
      ],
      "execution_count": 90,
      "outputs": [
        {
          "output_type": "stream",
          "text": [
            "series: 0.35645740147620697\n",
            "tv: 0.35645740147620697\n",
            "amazing: 0.4686986463592042\n",
            "an: 0.4686986463592042\n",
            "is: 0.27682097087637686\n",
            "thrones: 0.27682097087637686\n",
            "of: 0.27682097087637686\n",
            "game: 0.27682097087637686\n",
            "best: 0.0\n",
            "the: 0.0\n",
            "series: 0.35645740147620697\n",
            "tv: 0.35645740147620697\n",
            "is: 0.27682097087637686\n",
            "thrones: 0.27682097087637686\n",
            "of: 0.27682097087637686\n",
            "game: 0.27682097087637686\n",
            "great: 0.0\n",
            "so: 0.0\n",
            "is: 0.27682097087637686\n",
            "thrones: 0.27682097087637686\n",
            "of: 0.27682097087637686\n",
            "game: 0.27682097087637686\n"
          ],
          "name": "stdout"
        }
      ]
    },
    {
      "cell_type": "code",
      "metadata": {
        "colab": {
          "base_uri": "https://localhost:8080/"
        },
        "id": "DcVzPkpu7uFn",
        "outputId": "589619c8-c124-4cde-94d9-5dd8e9d51d3f"
      },
      "source": [
        "feature_names = vectorizer.get_feature_names()\n",
        "for col in response.nonzero()[1]:\n",
        "     print('{}:{}'.format(feature_names[col],response[1,col]))"
      ],
      "execution_count": 91,
      "outputs": [
        {
          "output_type": "stream",
          "text": [
            "series:0.356457401476207\n",
            "tv:0.356457401476207\n",
            "amazing:0.0\n",
            "an:0.0\n",
            "is:0.27682097087637686\n",
            "thrones:0.27682097087637686\n",
            "of:0.27682097087637686\n",
            "game:0.27682097087637686\n",
            "best:0.4686986463592043\n",
            "the:0.4686986463592043\n",
            "series:0.356457401476207\n",
            "tv:0.356457401476207\n",
            "is:0.27682097087637686\n",
            "thrones:0.27682097087637686\n",
            "of:0.27682097087637686\n",
            "game:0.27682097087637686\n",
            "great:0.0\n",
            "so:0.0\n",
            "is:0.27682097087637686\n",
            "thrones:0.27682097087637686\n",
            "of:0.27682097087637686\n",
            "game:0.27682097087637686\n"
          ],
          "name": "stdout"
        }
      ]
    },
    {
      "cell_type": "code",
      "metadata": {
        "colab": {
          "base_uri": "https://localhost:8080/",
          "height": 141
        },
        "id": "ob2Q40j-CZDA",
        "outputId": "f32f6601-36d5-45a1-af52-73133f991b4e"
      },
      "source": [
        "df_tfidf_sklearn = pd.DataFrame(response.toarray(),columns=vectorizer.get_feature_names())\n",
        "df_tfidf_sklearn"
      ],
      "execution_count": 92,
      "outputs": [
        {
          "output_type": "execute_result",
          "data": {
            "text/html": [
              "<div>\n",
              "<style scoped>\n",
              "    .dataframe tbody tr th:only-of-type {\n",
              "        vertical-align: middle;\n",
              "    }\n",
              "\n",
              "    .dataframe tbody tr th {\n",
              "        vertical-align: top;\n",
              "    }\n",
              "\n",
              "    .dataframe thead th {\n",
              "        text-align: right;\n",
              "    }\n",
              "</style>\n",
              "<table border=\"1\" class=\"dataframe\">\n",
              "  <thead>\n",
              "    <tr style=\"text-align: right;\">\n",
              "      <th></th>\n",
              "      <th>amazing</th>\n",
              "      <th>an</th>\n",
              "      <th>best</th>\n",
              "      <th>game</th>\n",
              "      <th>great</th>\n",
              "      <th>is</th>\n",
              "      <th>of</th>\n",
              "      <th>series</th>\n",
              "      <th>so</th>\n",
              "      <th>the</th>\n",
              "      <th>thrones</th>\n",
              "      <th>tv</th>\n",
              "    </tr>\n",
              "  </thead>\n",
              "  <tbody>\n",
              "    <tr>\n",
              "      <th>0</th>\n",
              "      <td>0.468699</td>\n",
              "      <td>0.468699</td>\n",
              "      <td>0.000000</td>\n",
              "      <td>0.276821</td>\n",
              "      <td>0.000000</td>\n",
              "      <td>0.276821</td>\n",
              "      <td>0.276821</td>\n",
              "      <td>0.356457</td>\n",
              "      <td>0.000000</td>\n",
              "      <td>0.000000</td>\n",
              "      <td>0.276821</td>\n",
              "      <td>0.356457</td>\n",
              "    </tr>\n",
              "    <tr>\n",
              "      <th>1</th>\n",
              "      <td>0.000000</td>\n",
              "      <td>0.000000</td>\n",
              "      <td>0.468699</td>\n",
              "      <td>0.276821</td>\n",
              "      <td>0.000000</td>\n",
              "      <td>0.276821</td>\n",
              "      <td>0.276821</td>\n",
              "      <td>0.356457</td>\n",
              "      <td>0.000000</td>\n",
              "      <td>0.468699</td>\n",
              "      <td>0.276821</td>\n",
              "      <td>0.356457</td>\n",
              "    </tr>\n",
              "    <tr>\n",
              "      <th>2</th>\n",
              "      <td>0.000000</td>\n",
              "      <td>0.000000</td>\n",
              "      <td>0.000000</td>\n",
              "      <td>0.320528</td>\n",
              "      <td>0.542701</td>\n",
              "      <td>0.320528</td>\n",
              "      <td>0.320528</td>\n",
              "      <td>0.000000</td>\n",
              "      <td>0.542701</td>\n",
              "      <td>0.000000</td>\n",
              "      <td>0.320528</td>\n",
              "      <td>0.000000</td>\n",
              "    </tr>\n",
              "  </tbody>\n",
              "</table>\n",
              "</div>"
            ],
            "text/plain": [
              "    amazing        an      best  ...       the   thrones        tv\n",
              "0  0.468699  0.468699  0.000000  ...  0.000000  0.276821  0.356457\n",
              "1  0.000000  0.000000  0.468699  ...  0.468699  0.276821  0.356457\n",
              "2  0.000000  0.000000  0.000000  ...  0.000000  0.320528  0.000000\n",
              "\n",
              "[3 rows x 12 columns]"
            ]
          },
          "metadata": {
            "tags": []
          },
          "execution_count": 92
        }
      ]
    },
    {
      "cell_type": "code",
      "metadata": {
        "colab": {
          "base_uri": "https://localhost:8080/"
        },
        "id": "9VA1n9yvEhHG",
        "outputId": "3d652639-8c13-45b7-a49d-1f1a1989cc46"
      },
      "source": [
        "np.log(4/3)+1"
      ],
      "execution_count": 94,
      "outputs": [
        {
          "output_type": "execute_result",
          "data": {
            "text/plain": [
              "1.2876820724517808"
            ]
          },
          "metadata": {
            "tags": []
          },
          "execution_count": 94
        }
      ]
    },
    {
      "cell_type": "code",
      "metadata": {
        "id": "t4fFY9C9E6En"
      },
      "source": [
        "np.log(4/3)+1"
      ],
      "execution_count": null,
      "outputs": []
    },
    {
      "cell_type": "code",
      "metadata": {
        "colab": {
          "base_uri": "https://localhost:8080/"
        },
        "id": "rMLoV3x79KHX",
        "outputId": "210de541-df25-4dc1-ac3c-595743ae30e1"
      },
      "source": [
        "vectorizer.idf_"
      ],
      "execution_count": 93,
      "outputs": [
        {
          "output_type": "execute_result",
          "data": {
            "text/plain": [
              "array([1.69314718, 1.69314718, 1.69314718, 1.        , 1.69314718,\n",
              "       1.        , 1.        , 1.28768207, 1.69314718, 1.69314718,\n",
              "       1.        , 1.28768207])"
            ]
          },
          "metadata": {
            "tags": []
          },
          "execution_count": 93
        }
      ]
    },
    {
      "cell_type": "markdown",
      "metadata": {
        "id": "lgDpW0qW2bHC"
      },
      "source": [
        "# How to calculate BOW"
      ]
    },
    {
      "cell_type": "code",
      "metadata": {
        "id": "gy3yIADS2ebg"
      },
      "source": [
        "def calculateBOW(wordset,bow):\n",
        "    termfreq_diz = dict.fromkeys(wordset,0)\n",
        "    counter1 =  dict(collections.Counter(bow))\n",
        "    for w in bow:\n",
        "       termfreq_diz[w]=counter1[w]\n",
        "    return termfreq_diz   "
      ],
      "execution_count": 23,
      "outputs": []
    },
    {
      "cell_type": "code",
      "metadata": {
        "id": "s6hnjw68239Z"
      },
      "source": [
        "bow1 = calculateBOW(wordset,l_doc1)\n",
        "bow2 = calculateBOW(wordset,l_doc2)\n",
        "bow3 = calculateBOW(wordset,l_doc3)"
      ],
      "execution_count": 24,
      "outputs": []
    },
    {
      "cell_type": "code",
      "metadata": {
        "colab": {
          "base_uri": "https://localhost:8080/",
          "height": 141
        },
        "id": "CV0E6E8Q9_eL",
        "outputId": "0015928a-0c55-4d96-8109-82ff8328e664"
      },
      "source": [
        "df_bow = pd.DataFrame([bow1,bow2,bow3])\n",
        "df_bow.head()"
      ],
      "execution_count": 25,
      "outputs": [
        {
          "output_type": "execute_result",
          "data": {
            "text/html": [
              "<div>\n",
              "<style scoped>\n",
              "    .dataframe tbody tr th:only-of-type {\n",
              "        vertical-align: middle;\n",
              "    }\n",
              "\n",
              "    .dataframe tbody tr th {\n",
              "        vertical-align: top;\n",
              "    }\n",
              "\n",
              "    .dataframe thead th {\n",
              "        text-align: right;\n",
              "    }\n",
              "</style>\n",
              "<table border=\"1\" class=\"dataframe\">\n",
              "  <thead>\n",
              "    <tr style=\"text-align: right;\">\n",
              "      <th></th>\n",
              "      <th>amazing</th>\n",
              "      <th>an</th>\n",
              "      <th>best</th>\n",
              "      <th>game</th>\n",
              "      <th>great</th>\n",
              "      <th>is</th>\n",
              "      <th>of</th>\n",
              "      <th>series</th>\n",
              "      <th>so</th>\n",
              "      <th>the</th>\n",
              "      <th>thrones</th>\n",
              "      <th>tv</th>\n",
              "    </tr>\n",
              "  </thead>\n",
              "  <tbody>\n",
              "    <tr>\n",
              "      <th>0</th>\n",
              "      <td>1</td>\n",
              "      <td>1</td>\n",
              "      <td>0</td>\n",
              "      <td>1</td>\n",
              "      <td>0</td>\n",
              "      <td>1</td>\n",
              "      <td>1</td>\n",
              "      <td>1</td>\n",
              "      <td>0</td>\n",
              "      <td>0</td>\n",
              "      <td>1</td>\n",
              "      <td>1</td>\n",
              "    </tr>\n",
              "    <tr>\n",
              "      <th>1</th>\n",
              "      <td>0</td>\n",
              "      <td>0</td>\n",
              "      <td>1</td>\n",
              "      <td>1</td>\n",
              "      <td>0</td>\n",
              "      <td>1</td>\n",
              "      <td>1</td>\n",
              "      <td>1</td>\n",
              "      <td>0</td>\n",
              "      <td>1</td>\n",
              "      <td>1</td>\n",
              "      <td>1</td>\n",
              "    </tr>\n",
              "    <tr>\n",
              "      <th>2</th>\n",
              "      <td>0</td>\n",
              "      <td>0</td>\n",
              "      <td>0</td>\n",
              "      <td>1</td>\n",
              "      <td>1</td>\n",
              "      <td>1</td>\n",
              "      <td>1</td>\n",
              "      <td>0</td>\n",
              "      <td>1</td>\n",
              "      <td>0</td>\n",
              "      <td>1</td>\n",
              "      <td>0</td>\n",
              "    </tr>\n",
              "  </tbody>\n",
              "</table>\n",
              "</div>"
            ],
            "text/plain": [
              "   amazing  an  best  game  great  is  of  series  so  the  thrones  tv\n",
              "0        1   1     0     1      0   1   1       1   0    0        1   1\n",
              "1        0   0     1     1      0   1   1       1   0    1        1   1\n",
              "2        0   0     0     1      1   1   1       0   1    0        1   0"
            ]
          },
          "metadata": {
            "tags": []
          },
          "execution_count": 25
        }
      ]
    },
    {
      "cell_type": "markdown",
      "metadata": {
        "id": "2c2ayD9z9uQB"
      },
      "source": [
        "## Compare with sklearn"
      ]
    },
    {
      "cell_type": "code",
      "metadata": {
        "id": "iG_PiNRi870Z"
      },
      "source": [
        "from sklearn.feature_extraction.text import CountVectorizer"
      ],
      "execution_count": 32,
      "outputs": []
    },
    {
      "cell_type": "code",
      "metadata": {
        "colab": {
          "base_uri": "https://localhost:8080/"
        },
        "id": "LM85nO0Y9UM5",
        "outputId": "10cacbde-da2d-406c-92c8-7ca41b819536"
      },
      "source": [
        "vectorizer = CountVectorizer()\n",
        "X = vectorizer.fit_transform([doc1,doc2,doc3])\n",
        "print(X.toarray())"
      ],
      "execution_count": 33,
      "outputs": [
        {
          "output_type": "stream",
          "text": [
            "[[1 1 0 1 0 1 1 1 0 0 1 1]\n",
            " [0 0 1 1 0 1 1 1 0 1 1 1]\n",
            " [0 0 0 1 1 1 1 0 1 0 1 0]]\n"
          ],
          "name": "stdout"
        }
      ]
    },
    {
      "cell_type": "code",
      "metadata": {
        "colab": {
          "base_uri": "https://localhost:8080/"
        },
        "id": "3W7feUdq-1lB",
        "outputId": "f73fa2cb-4e88-4cac-e538-007a154b0ee9"
      },
      "source": [
        "X.toarray()[0]"
      ],
      "execution_count": 34,
      "outputs": [
        {
          "output_type": "execute_result",
          "data": {
            "text/plain": [
              "array([1, 1, 0, 1, 0, 1, 1, 1, 0, 0, 1, 1])"
            ]
          },
          "metadata": {
            "tags": []
          },
          "execution_count": 34
        }
      ]
    },
    {
      "cell_type": "code",
      "metadata": {
        "id": "vjhTm5l7-oSk"
      },
      "source": [
        "df_bow_sklearn = pd.DataFrame(X.toarray(),columns=vectorizer.get_feature_names())"
      ],
      "execution_count": 35,
      "outputs": []
    },
    {
      "cell_type": "code",
      "metadata": {
        "colab": {
          "base_uri": "https://localhost:8080/",
          "height": 141
        },
        "id": "Lk5RIUbp_IAM",
        "outputId": "218839e7-b72d-4acd-9719-40b76160ea90"
      },
      "source": [
        "df_bow_sklearn.head()"
      ],
      "execution_count": 36,
      "outputs": [
        {
          "output_type": "execute_result",
          "data": {
            "text/html": [
              "<div>\n",
              "<style scoped>\n",
              "    .dataframe tbody tr th:only-of-type {\n",
              "        vertical-align: middle;\n",
              "    }\n",
              "\n",
              "    .dataframe tbody tr th {\n",
              "        vertical-align: top;\n",
              "    }\n",
              "\n",
              "    .dataframe thead th {\n",
              "        text-align: right;\n",
              "    }\n",
              "</style>\n",
              "<table border=\"1\" class=\"dataframe\">\n",
              "  <thead>\n",
              "    <tr style=\"text-align: right;\">\n",
              "      <th></th>\n",
              "      <th>amazing</th>\n",
              "      <th>an</th>\n",
              "      <th>best</th>\n",
              "      <th>game</th>\n",
              "      <th>great</th>\n",
              "      <th>is</th>\n",
              "      <th>of</th>\n",
              "      <th>series</th>\n",
              "      <th>so</th>\n",
              "      <th>the</th>\n",
              "      <th>thrones</th>\n",
              "      <th>tv</th>\n",
              "    </tr>\n",
              "  </thead>\n",
              "  <tbody>\n",
              "    <tr>\n",
              "      <th>0</th>\n",
              "      <td>1</td>\n",
              "      <td>1</td>\n",
              "      <td>0</td>\n",
              "      <td>1</td>\n",
              "      <td>0</td>\n",
              "      <td>1</td>\n",
              "      <td>1</td>\n",
              "      <td>1</td>\n",
              "      <td>0</td>\n",
              "      <td>0</td>\n",
              "      <td>1</td>\n",
              "      <td>1</td>\n",
              "    </tr>\n",
              "    <tr>\n",
              "      <th>1</th>\n",
              "      <td>0</td>\n",
              "      <td>0</td>\n",
              "      <td>1</td>\n",
              "      <td>1</td>\n",
              "      <td>0</td>\n",
              "      <td>1</td>\n",
              "      <td>1</td>\n",
              "      <td>1</td>\n",
              "      <td>0</td>\n",
              "      <td>1</td>\n",
              "      <td>1</td>\n",
              "      <td>1</td>\n",
              "    </tr>\n",
              "    <tr>\n",
              "      <th>2</th>\n",
              "      <td>0</td>\n",
              "      <td>0</td>\n",
              "      <td>0</td>\n",
              "      <td>1</td>\n",
              "      <td>1</td>\n",
              "      <td>1</td>\n",
              "      <td>1</td>\n",
              "      <td>0</td>\n",
              "      <td>1</td>\n",
              "      <td>0</td>\n",
              "      <td>1</td>\n",
              "      <td>0</td>\n",
              "    </tr>\n",
              "  </tbody>\n",
              "</table>\n",
              "</div>"
            ],
            "text/plain": [
              "   amazing  an  best  game  great  is  of  series  so  the  thrones  tv\n",
              "0        1   1     0     1      0   1   1       1   0    0        1   1\n",
              "1        0   0     1     1      0   1   1       1   0    1        1   1\n",
              "2        0   0     0     1      1   1   1       0   1    0        1   0"
            ]
          },
          "metadata": {
            "tags": []
          },
          "execution_count": 36
        }
      ]
    }
  ]
}